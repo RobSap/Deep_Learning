{
 "cells": [
  {
   "cell_type": "code",
   "execution_count": null,
   "metadata": {},
   "outputs": [],
   "source": [
    "#Import\n",
    "import sys\n",
    "\n",
    "from random import shuffle\n",
    "import numpy as np\n",
    "import matplotlib.pyplot as plt\n",
    "import json\n",
    "import pandas as pd\n",
    "from pandas.io.json import json_normalize\n",
    "\n",
    "from keras.datasets import imdb\n",
    "from keras import models\n",
    "from keras import layers\n",
    "from keras.utils import to_categorical\n",
    "from keras import optimizers\n",
    "from keras import losses\n",
    "from keras import metrics\n",
    "\n",
    "from sklearn.feature_extraction.text import CountVectorizer\n",
    "from sklearn.linear_model import LogisticRegression\n",
    "from sklearn.model_selection import train_test_split\n",
    "from sklearn.metrics import accuracy_score\n",
    "from sklearn.ensemble import GradientBoostingClassifier\n",
    "from sklearn.naive_bayes import MultinomialNB\n",
    "from sklearn.feature_extraction import text \n",
    "\n",
    "from keras.layers.embeddings import Embedding\n",
    "from keras.layers.normalization import BatchNormalization\n",
    "from keras.layers import GlobalMaxPooling1D\n",
    "from keras.layers import GlobalAveragePooling1D\n",
    "from keras.layers import Activation\n",
    "from keras.layers import Conv1D\n",
    "from keras import regularizers\n",
    "from keras.layers import Flatten\n",
    "from keras.layers import Dense\n",
    "from keras.preprocessing.sequence import pad_sequences\n",
    "from keras.layers import Dropout\n",
    "import nltk\n",
    "from nltk.corpus import stopwords\n",
    "\n",
    "\n"
   ]
  },
  {
   "cell_type": "code",
   "execution_count": null,
   "metadata": {},
   "outputs": [],
   "source": [
    "data = []\n",
    "print(\"Reading in file\")\n",
    "#json_list = ['reviews_Movies_and_TV_5.json','reviews_Amazon_Instant_Video_5.json']\n",
    "json_list = ['reviews_Movies_and_TV_5.json'] #Used for big data\n",
    "#json_list = ['reviews_Amazon_Instant_Video_5.json'] # USed for fast testing\n",
    "counter = 0\n",
    "for file in json_list:\n",
    "    counter+=1\n",
    "    print(\"On file \" + str(counter) + \" out of \" + str(len(json_list)))\n",
    "    with open('/Volumes/TOSHIBA/desktop/data_sets/'+ file) as f:\n",
    "        for line in f:\n",
    "            data.append(json.loads(line))\n",
    "            \n",
    "limit = 500000\n",
    "print(\"Shuffle the order, limiting entries to \" + str(limit))\n",
    "shuffle(data)\n",
    "\n",
    "print(\"Making df\")\n",
    "df = pd.DataFrame.from_dict(json_normalize(data[:limit]), orient='columns')\n",
    "\n",
    "    #print(df)\n",
    "    #df = df.values.tolist()\n",
    "     \n",
    "header = df.columns.tolist()\n",
    "    \n",
    "print(\"removing non letters\")\n",
    "# Remove unneeded special characters by encoding to ascii and then recoding to utf-8\n",
    "df.reviewText = df.reviewText.str.encode('ascii', 'ignore')\n",
    "df.reviewText = df.reviewText.str.decode('utf-8')\n",
    "print(\"removing stop words\")\n",
    "stop_words = set(stopwords.words('english'))\n",
    "# Removing stopwords - you need a list called stopwords defining your stopwords\n",
    "df.reviewText = df.reviewText.apply(lambda x: ' '.join([word for word in x.split() if word not in (stop_words)]))\n",
    "    \n",
    "    \n",
    "df=df.values\n",
    "data = list(df)\n",
    "x_train = []\n",
    "y_train = []\n",
    "y_train_helpful = []\n",
    "print(\"Binning y\")\n",
    "#print(header)\n",
    "help_count = 0\n",
    "for i in range(0,(len(data))):\n",
    "    #print(data[i])\n",
    "    #input(\"Press enter to continue\")  \n",
    "\n",
    "    x_train.append(data[i][3])\n",
    "    if data[i][2] <=3:\n",
    "        y_train.append(0)\n",
    "    else:\n",
    "        y_train.append(1)\n",
    "\n",
    "print(\"Finished with data\")"
   ]
  },
  {
   "cell_type": "code",
   "execution_count": null,
   "metadata": {},
   "outputs": [],
   "source": [
    "#Testing\n",
    "\n",
    "max_length = 250\n",
    "top_x_words = 1000\n",
    "from keras.preprocessing.text import Tokenizer\n",
    "from keras.preprocessing.sequence import pad_sequences\n",
    "\n",
    "# create the tokenizer\n",
    "#return each list with a max number of words in a line\n",
    "print('Setting max number of words to take')\n",
    "t = Tokenizer(num_words=top_x_words)\n",
    "# fit the tokenizer on the documents\n",
    "print('Finding words in the data, applying hash')\n",
    "t.fit_on_texts(x_train)\n",
    "# summarize what was learned\n",
    "#print(t.word_counts)\n",
    "#print(t.document_count)\n",
    "#print(t.word_index)\n",
    "#print(t.word_docs)\n",
    "# integer encode documents\n",
    "print(\"Turning the data into encoded data\")\n",
    "encoded_x_train = t.texts_to_matrix(x_train, mode='count')\n",
    "\n",
    "print(\"Setting a max lenth to data, and padding post for short sequence\")\n",
    "encoded_x_train = pad_sequences(encoded_x_train, maxlen=max_length, padding='post')\n"
   ]
  },
  {
   "cell_type": "code",
   "execution_count": null,
   "metadata": {},
   "outputs": [],
   "source": [
    "    print(\"Splitting data\")\n",
    "    x_train, x_test, y_train, y_test = train_test_split(encoded_x_train, y_train, random_state=69, shuffle=True, test_size=0.20)\n",
    "    y_train = np.asarray(y_train).astype('float32')\n",
    "    y_test = np.asarray(y_test).astype('float32')\n",
    "    print(\"Done splitting data\")"
   ]
  },
  {
   "cell_type": "code",
   "execution_count": null,
   "metadata": {},
   "outputs": [],
   "source": [
    "   \n",
    "epochs = 10\n",
    "batch_size = 256\n",
    "\n",
    "print(\"Running NN\")\n",
    "\n",
    "temp =len(list(x_train))\n",
    "\n",
    "    \n",
    "model = models.Sequential()\n",
    "model.add(Dense(64, activation='relu',input_shape= (np.array(x_train).shape[1],)))\n",
    "model.add(layers.Dense(1,activation='sigmoid'))\n",
    "model.compile(optimizer='adam',loss='binary_crossentropy', metrics=['acc'])\n",
    "history = model.fit(x_train,y_train, epochs=epochs,validation_data=((x_test),(y_test)), batch_size=batch_size)\n",
    "    "
   ]
  },
  {
   "cell_type": "code",
   "execution_count": null,
   "metadata": {},
   "outputs": [],
   "source": [
    "\n",
    "    \n",
    "    history_dict = history.history\n",
    "    \n",
    "    loss_values = history_dict['loss']\n",
    "    epochs = range(1, len(loss_values) + 1)\n",
    "    \n",
    "    loss_values = np.array(loss_values)\n",
    "    val_loss_values = history_dict['val_loss']\n",
    "    val_loss_values = np.array(val_loss_values)\n",
    "    \n",
    "    \n",
    "    acc_values = history_dict['acc']\n",
    "    acc_values = np.array(acc_values)\n",
    "    val_acc_values = history_dict['val_acc']\n",
    "    val_acc_values = np.array(val_acc_values)\n",
    "  \n",
    "    #This will show the training and validation loss per epoch\n",
    "    plt.plot(epochs, loss_values, label='Training loss')\n",
    "    plt.plot(epochs, val_loss_values, label='Validation loss')\n",
    "    plt.title('Training and validation loss')\n",
    "    plt.xlabel('Epochs')\n",
    "    plt.ylabel('Loss')\n",
    "    plt.legend()\n",
    "    plt.show()\n",
    "\n",
    "    #This will show the training and validation accuracy per epoch\n",
    "    plt.clf()\n",
    "    plt.plot(epochs, acc_values, 'bo', label='Training acc')\n",
    "    plt.plot(epochs, val_acc_values, 'b', label='Validation acc')\n",
    "    plt.title('Training and validation accuracy')\n",
    "    plt.xlabel('Epochs')\n",
    "    plt.ylabel('Accuracy')\n",
    "    plt.legend()\n",
    "    plt.show()\n",
    "\n"
   ]
  },
  {
   "cell_type": "code",
   "execution_count": null,
   "metadata": {},
   "outputs": [],
   "source": [
    "\n",
    "epochs = 5\n",
    "batch_size = 256\n",
    "model.fit(np.array(x_train),np.array(y_train), epochs=epochs, batch_size=batch_size)\n",
    "\n",
    "loss,accuracy = model.evaluate(x_test,y_test)\n",
    "\n",
    "print(\"Deep NN\")\n",
    "print(\"loss: \"+ str(loss))\n",
    "print(\"accuracy: \"+ str(accuracy))\n"
   ]
  },
  {
   "cell_type": "code",
   "execution_count": null,
   "metadata": {},
   "outputs": [],
   "source": [
    "print(len(x_train))\n",
    "accuracys = []\n",
    "accuracys.append(accuracy)\n",
    "\n",
    "value = sum(y_test)\n",
    "positive = value/len(y_test)\n",
    "negative = 1 - positive\n",
    "print(\"Percent positive reviews: \" + str(positive))\n",
    "print(\"Percent Negative reviews: \" + str(negative))\n",
    "print(\"Finished with data\")\n",
    "\n",
    "size = len(y_test)\n",
    "\n",
    "listofzeros = [0] * size\n",
    "accuracy = accuracy_score(y_test, listofzeros)\n",
    "accuracys.append(accuracy)\n",
    "del listofzeros\n",
    "\n",
    "\n",
    "listofones = [1] * size\n",
    "accuracy = accuracy_score(y_test, listofones)\n",
    "accuracys.append(accuracy)\n",
    "del listofones\n",
    "\n"
   ]
  },
  {
   "cell_type": "code",
   "execution_count": null,
   "metadata": {},
   "outputs": [],
   "source": [
    "    print(\"Running XGBoost\")\n",
    "    model = GradientBoostingClassifier(n_estimators=100,verbose=1)\n",
    "    model.fit(x_train, y_train)\n",
    "    results2 = model.predict(x_test)\n",
    "    accuracy = accuracy_score(y_test, results2)\n",
    "    accuracys.append(accuracy)\n",
    "\n",
    "    print(\"GBC\")\n",
    "    print(\"accuracy \" + str(accuracy))\n"
   ]
  },
  {
   "cell_type": "code",
   "execution_count": null,
   "metadata": {},
   "outputs": [],
   "source": [
    "    print(\"Running LR\")\n",
    "    lrmodel =LogisticRegression()\n",
    "    fitmodel =lrmodel.fit(x_train, y_train)\n",
    "    results = fitmodel.predict(x_test)\n",
    "\n",
    "    #print(y_test) \n",
    "    accuracy = accuracy_score(y_test, results)\n",
    "    accuracys.append(accuracy)\n",
    "    print(\"LR\")\n",
    "    print(\"accuracy \" + str(accuracy))\n"
   ]
  },
  {
   "cell_type": "code",
   "execution_count": null,
   "metadata": {},
   "outputs": [],
   "source": [
    "  \n",
    "    clf = MultinomialNB()\n",
    "    clf = clf.fit(x_train, y_train)\n",
    "    results2= (clf.predict(x_test))\n",
    "    accuracy = accuracy_score(y_test, results2)\n",
    "    accuracys.append(accuracy)\n",
    "    print(\"Multinomial BB\")\n",
    "    print( \"Accuracy \" + str( accuracy))"
   ]
  },
  {
   "cell_type": "code",
   "execution_count": null,
   "metadata": {},
   "outputs": [],
   "source": [
    "    value = sum(y_test)\n",
    "    positive = value/len(y_test)\n",
    "    negative = 1 - positive\n",
    "    print(\"Percent positive reviews: \" + str(positive))\n",
    "    print(\"Percent Negative reviews: \" + str(negative))\n",
    "    print(\"Finished with data\")\n",
    "    \n",
    "\n",
    "\n",
    "    names = [\"Keras\",\"all neg\", \"all pos\",\"XGBoost\",\"LR\", \"NB\"]\n",
    "   \n",
    "   \n",
    "    \n",
    "    y_len = np.arange(len(accuracys))\n",
    "    fig, ax = plt.subplots()\n",
    "\n",
    "    chart= plt.bar(y_len, accuracys, align='center')#, alpha=0.5)\n",
    "    plt.xticks(y_len, names)\n",
    "    plt.ylim(0.0, 1.0)\n",
    "    plt.ylabel('Accuracy')\n",
    "    plt.title('Difference in Accuracy')\n",
    "    plt.legend(names)\n",
    "\n",
    "    i=0\n",
    "    for bar in chart:\n",
    "        height = bar.get_height()\n",
    "        #print(height)\n",
    "        ax.text(bar.get_x() + bar.get_width()/2., height,'%d' % int(height*100) + \"%\", ha='center', va='bottom')\n",
    "\n",
    "        i+=1\n",
    "    plt.tight_layout()\n",
    "    plt.show()"
   ]
  },
  {
   "cell_type": "code",
   "execution_count": null,
   "metadata": {},
   "outputs": [],
   "source": [
    "'''\n",
    "All the models beat guessing. However, marking every review as negative \n",
    "you almost get the same accuracy as all the models. As noted, XGBoosts time also blew up.\n",
    "Again, LR seems to do very well, and not take that long.\n",
    "'''"
   ]
  },
  {
   "cell_type": "code",
   "execution_count": 14,
   "metadata": {},
   "outputs": [
    {
     "name": "stdout",
     "output_type": "stream",
     "text": [
      "Reading in file\n",
      "On file 1 out of 1\n",
      "Shuffle the order, limiting entries to 500000\n",
      "Making df\n",
      "removing non letters\n",
      "removing stop words\n",
      "Binning y\n",
      "Finished with data\n"
     ]
    }
   ],
   "source": [
    "data = []\n",
    "print(\"Reading in file\")\n",
    "#json_list = ['reviews_Movies_and_TV_5.json','reviews_Amazon_Instant_Video_5.json']\n",
    "json_list = ['reviews_Movies_and_TV_5.json'] #Used for big data\n",
    "#json_list = ['reviews_Amazon_Instant_Video_5.json'] # USed for fast testing\n",
    "counter = 0\n",
    "for file in json_list:\n",
    "    counter+=1\n",
    "    print(\"On file \" + str(counter) + \" out of \" + str(len(json_list)))\n",
    "    with open('/Volumes/TOSHIBA/desktop/data_sets/'+ file) as f:\n",
    "        for line in f:\n",
    "            data.append(json.loads(line))\n",
    "            \n",
    "limit = 500000\n",
    "print(\"Shuffle the order, limiting entries to \" + str(limit))\n",
    "shuffle(data)\n",
    "\n",
    "print(\"Making df\")\n",
    "df = pd.DataFrame.from_dict(json_normalize(data[:limit]), orient='columns')\n",
    "\n",
    "    #print(df)\n",
    "    #df = df.values.tolist()\n",
    "     \n",
    "header = df.columns.tolist()\n",
    "    \n",
    "print(\"removing non letters\")\n",
    "# Remove unneeded special characters by encoding to ascii and then recoding to utf-8\n",
    "df.reviewText = df.reviewText.str.encode('ascii', 'ignore')\n",
    "df.reviewText = df.reviewText.str.decode('utf-8')\n",
    "print(\"removing stop words\")\n",
    "stop_words = set(stopwords.words('english'))\n",
    "# Removing stopwords - you need a list called stopwords defining your stopwords\n",
    "df.reviewText = df.reviewText.apply(lambda x: ' '.join([word for word in x.split() if word not in (stop_words)]))\n",
    "    \n",
    "    \n",
    "df=df.values\n",
    "data = list(df)\n",
    "x_train = []\n",
    "y_train = []\n",
    "y_train_helpful = []\n",
    "print(\"Binning y\")\n",
    "#print(header)\n",
    "help_count = 0\n",
    "for i in range(0,(len(data))):\n",
    "    #print(data[i])\n",
    "    #input(\"Press enter to continue\")  \n",
    "\n",
    "    x_train.append(data[i][3])\n",
    "    if data[i][2] <=3:\n",
    "        y_train.append(0)\n",
    "    else:\n",
    "        y_train.append(1)\n",
    "\n",
    "print(\"Finished with data\")"
   ]
  },
  {
   "cell_type": "code",
   "execution_count": 18,
   "metadata": {},
   "outputs": [
    {
     "name": "stdout",
     "output_type": "stream",
     "text": [
      "Setting max number of words to take\n",
      "Finding words in the data, applying hash\n",
      "Turning the data into encoded data\n",
      "Setting a max length of data, and padding post for short sequence\n"
     ]
    }
   ],
   "source": [
    "#this is required for the embeding layer in keras\n",
    "max_length = 1000\n",
    "top_x_words = 10000\n",
    "from keras.preprocessing.text import Tokenizer\n",
    "# create the tokenizer\n",
    "#return each list with a max number of words in a line\n",
    "print('Setting max number of words to take')\n",
    "t = Tokenizer(num_words=top_x_words)\n",
    "# fit the tokenizer on the documents\n",
    "print('Finding words in the data, applying hash')\n",
    "t.fit_on_texts(x_train)\n",
    "# summarize what was learned\n",
    "#print(t.word_counts)\n",
    "#print(t.document_count)\n",
    "#print(t.word_index)\n",
    "#print(t.word_docs)\n",
    "# integer encode documents\n",
    "print(\"Turning the data into encoded data\")\n",
    "encoded_x_train = t.texts_to_matrix(x_train, mode='count')\n",
    "\n",
    "print(\"Setting a max length of data, and padding post for short sequence\")\n",
    "encoded_x_train = pad_sequences(encoded_x_train, maxlen=max_length, padding='pre', truncating='pre')\n",
    "\n"
   ]
  },
  {
   "cell_type": "code",
   "execution_count": null,
   "metadata": {},
   "outputs": [],
   "source": []
  },
  {
   "cell_type": "code",
   "execution_count": 19,
   "metadata": {},
   "outputs": [
    {
     "name": "stdout",
     "output_type": "stream",
     "text": [
      "Splitting data\n",
      "Done splitting data\n"
     ]
    }
   ],
   "source": [
    "\n",
    "print(\"Splitting data\")\n",
    "\n",
    "x_train_new, x_test_new, y_train_new, y_test_new = train_test_split(encoded_x_train, y_train, random_state=69, shuffle=True, test_size=0.20)\n",
    "y_train_new = np.asarray(y_train_new).astype('float32')\n",
    "y_test_new = np.asarray(y_test_new).astype('float32')\n",
    "print(\"Done splitting data\")\n"
   ]
  },
  {
   "cell_type": "code",
   "execution_count": 21,
   "metadata": {},
   "outputs": [
    {
     "name": "stdout",
     "output_type": "stream",
     "text": [
      "Train on 400000 samples, validate on 100000 samples\n",
      "Epoch 1/10\n",
      "400000/400000 [==============================] - 238s 594us/step - loss: 0.5427 - acc: 0.7613 - val_loss: 0.5401 - val_acc: 0.7632\n",
      "Epoch 2/10\n",
      "400000/400000 [==============================] - 237s 592us/step - loss: 0.5373 - acc: 0.7648 - val_loss: 0.5416 - val_acc: 0.7628\n",
      "Epoch 3/10\n",
      "400000/400000 [==============================] - 240s 601us/step - loss: 0.5355 - acc: 0.7655 - val_loss: 0.5387 - val_acc: 0.7635\n",
      "Epoch 4/10\n",
      "400000/400000 [==============================] - 239s 597us/step - loss: 0.5335 - acc: 0.7664 - val_loss: 0.5394 - val_acc: 0.7635\n",
      "Epoch 5/10\n",
      "400000/400000 [==============================] - 266s 665us/step - loss: 0.5312 - acc: 0.7674 - val_loss: 0.5412 - val_acc: 0.7627\n",
      "Epoch 6/10\n",
      "400000/400000 [==============================] - 245s 612us/step - loss: 0.5288 - acc: 0.7687 - val_loss: 0.5429 - val_acc: 0.7621\n",
      "Epoch 7/10\n",
      "400000/400000 [==============================] - 241s 603us/step - loss: 0.5265 - acc: 0.7701 - val_loss: 0.5472 - val_acc: 0.7615\n",
      "Epoch 8/10\n",
      "400000/400000 [==============================] - 227s 568us/step - loss: 0.5243 - acc: 0.7711 - val_loss: 0.5468 - val_acc: 0.7613\n",
      "Epoch 9/10\n",
      "400000/400000 [==============================] - 225s 563us/step - loss: 0.5227 - acc: 0.7718 - val_loss: 0.5518 - val_acc: 0.7600\n",
      "Epoch 10/10\n",
      "400000/400000 [==============================] - 227s 568us/step - loss: 0.5209 - acc: 0.7727 - val_loss: 0.5541 - val_acc: 0.7597\n"
     ]
    },
    {
     "data": {
      "image/png": "[encoded data removed]",
      "text/plain": [
       "<Figure size 432x288 with 1 Axes>"
      ]
     },
     "metadata": {
      "needs_background": "light"
     },
     "output_type": "display_data"
    },
    {
     "data": {
      "text/plain": [
       "<matplotlib.legend.Legend at 0x18afb97f0>"
      ]
     },
     "execution_count": 21,
     "metadata": {},
     "output_type": "execute_result"
    },
    {
     "data": {
      "image/png": "[encoded data removed]",
      "text/plain": [
       "<Figure size 432x288 with 1 Axes>"
      ]
     },
     "metadata": {
      "needs_background": "light"
     },
     "output_type": "display_data"
    }
   ],
   "source": [
    "    \n",
    "    \n",
    "    batch_size=256\n",
    "    epochs = 10\n",
    "    vocab_size = len(t.word_index) + 1\n",
    "    model = models.Sequential()\n",
    "    model.add(Embedding(top_x_words, 32, input_length=(max_length)))\n",
    "    model.add(Dropout(0.2))\n",
    "    model.add(Flatten())\n",
    "    model.add(Dense(16, activation='relu'))\n",
    "    model.add(layers.Dense(1,activation='sigmoid'))\n",
    "    model.compile(optimizer='adam',loss='binary_crossentropy', metrics=['acc'])\n",
    "    history = model.fit(np.array(x_train_new),np.array(y_train_new), epochs=epochs,validation_data=(np.array(x_test_new),np.array(y_test_new)), batch_size=batch_size)\n",
    "    \n",
    "    history_dict = history.history\n",
    "    \n",
    "    \n",
    "    loss_values = history_dict['loss']\n",
    "    loss_values = np.array(loss_values)\n",
    "    epochs = range(1, len(loss_values) + 1)\n",
    "    val_loss_values = history_dict['val_loss']\n",
    "    val_loss_values = np.array(val_loss_values)\n",
    "\n",
    "    #This will show the training and validation loss per epoch\n",
    "    plt.plot(epochs, loss_values, 'b-',label='Training loss')\n",
    "    plt.plot(epochs, val_loss_values,'g-', label='Validation loss')\n",
    "    plt.title('Training and validation loss')\n",
    "    plt.xlabel('Epochs')\n",
    "    plt.ylabel('Loss')\n",
    "    plt.legend()\n",
    "    plt.show()\n",
    "\n",
    "    #This will show the training and validation accuracy per epoch\n",
    "    plt.clf()\n",
    "    acc_values = history_dict['acc']\n",
    "    val_acc_values = history_dict['val_acc']\n",
    "    plt.plot(epochs, acc_values, 'b-', label='Training acc')\n",
    "    plt.plot(epochs, val_acc_values, 'g-', label='Validation acc')\n",
    "    plt.title('Training and validation accuracy')\n",
    "    plt.xlabel('Epochs')\n",
    "    plt.ylabel('Accuracy')\n",
    "    plt.legend()\n",
    "    \n",
    "\n",
    "    \n",
    "    "
   ]
  },
  {
   "cell_type": "code",
   "execution_count": 22,
   "metadata": {},
   "outputs": [
    {
     "name": "stdout",
     "output_type": "stream",
     "text": [
      "100000/100000 [==============================] - 13s 134us/step\n",
      "loss: 0.554137376613617\n",
      "accuracy: 0.75973\n"
     ]
    }
   ],
   "source": [
    "epochs = 3\n",
    "batch_size= 256\n",
    "loss,accuracy = model.evaluate(np.array(x_test_new),np.array(y_test_new))\n",
    "print(\"loss: \"+ str(loss))\n",
    "print(\"accuracy: \"+ str(accuracy))"
   ]
  },
  {
   "cell_type": "code",
   "execution_count": 23,
   "metadata": {},
   "outputs": [],
   "source": [
    "y_test_new = to_categorical(y_test_new)\n",
    "y_train_new = to_categorical(y_train_new)  "
   ]
  },
  {
   "cell_type": "code",
   "execution_count": null,
   "metadata": {},
   "outputs": [
    {
     "name": "stdout",
     "output_type": "stream",
     "text": [
      "Train on 400000 samples, validate on 100000 samples\n",
      "Epoch 1/10\n",
      "123776/400000 [========>.....................] - ETA: 33:15 - loss: 0.5518 - acc: 0.7600"
     ]
    }
   ],
   "source": [
    "    from keras.layers.convolutional import Conv1D\n",
    "\n",
    "    batch_size=64\n",
    "    epochs = 10\n",
    "    \n",
    "    model = models.Sequential()\n",
    "    model.add(Embedding(top_x_words,128, input_shape= (max_length,)))\n",
    "    model.add(Dropout(.20))\n",
    "    model.add(Conv1D(64, kernel_size=3, padding='same', activation='relu'))\n",
    "    #model.add(Conv1D(32, kernel_size=3, padding='same', activation='relu'))\n",
    "    #model.add(Conv1D(32, kernel_size=3, padding='same', activation='relu'))\n",
    "    model.add(Conv1D(2,kernel_size=1,padding='same', activation='relu' ))\n",
    "    model.add(GlobalAveragePooling1D())\n",
    "    model.add(Activation('softmax'))\n",
    "    model.compile( optimizer='adam',loss='categorical_crossentropy', metrics=['accuracy'])\n",
    "    history = model.fit(np.array(x_train_new),np.array(y_train_new), epochs=epochs,validation_data=(np.array(x_test_new),np.array(y_test_new)), batch_size=batch_size)\n",
    "    \n",
    "\n",
    "  \n",
    "\n",
    "    "
   ]
  },
  {
   "cell_type": "code",
   "execution_count": null,
   "metadata": {},
   "outputs": [],
   "source": [
    "    \n",
    "    value = sum(y_test_new)\n",
    "    positive = value/len(y_test_new)\n",
    "    negative = 1 - positive\n",
    "    print(\"Percent positive reviews: \" + str(positive))\n",
    "    print(\"Percent Negative reviews: \" + str(negative))\n",
    "    print(\"Finished with data\")\n",
    "\n",
    "\n",
    "    history_dict = history.history\n",
    "    loss_values = history_dict['loss']\n",
    "    loss_values = np.array(loss_values)\n",
    "    val_loss_values = history_dict['val_loss']\n",
    "    val_loss_values = np.array(val_loss_values)\n",
    "\n",
    "    epochs = range(1, len(loss_values) + 1)\n",
    "\n",
    "    #This will show the training and validation loss per epoch\n",
    "    plt.plot(epochs, loss_values, 'b-',label='Training loss')\n",
    "    plt.plot(epochs, val_loss_values,'g-', label='Validation loss')\n",
    "    plt.title('Training and validation loss')\n",
    "    plt.xlabel('Epochs')\n",
    "    plt.ylabel('Loss')\n",
    "    plt.legend()\n",
    "    plt.show()\n",
    "\n",
    "    #This will show the training and validation accuracy per epoch\n",
    "    plt.clf()\n",
    "    acc_values = history_dict['acc']\n",
    "    val_acc_values = history_dict['val_acc']\n",
    "    plt.plot(epochs, acc_values, 'b-', label='Training acc')\n",
    "    plt.plot(epochs, val_acc_values, 'g-', label='Validation acc')\n",
    "    plt.title('Training and validation accuracy')\n",
    "    plt.xlabel('Epochs')\n",
    "    plt.ylabel('Loss')\n",
    "    plt.legend()\n"
   ]
  },
  {
   "cell_type": "code",
   "execution_count": null,
   "metadata": {},
   "outputs": [],
   "source": [
    "epochs = 8\n",
    "batch_size= 256\n",
    "model.fit(np.array(x_train_new),np.array(y_train_new), epochs=epochs, batch_size=batch_size)\n",
    "loss,accuracy = model.evaluate(np.array(x_test_new),np.array(y_test_new))\n",
    "print(\"loss: \"+ str(loss))\n",
    "print(\"accuracy: \"+ str(accuracy))"
   ]
  },
  {
   "cell_type": "code",
   "execution_count": null,
   "metadata": {},
   "outputs": [],
   "source": [
    "'''\n",
    "Embedding Conlusion:\n",
    "From the results I get, the Convolution version does not do better than the rest.\n",
    "And in most cases changing the kernal size, batch_size, dropout rate,  or the Convolutional \n",
    "filter size had little to no influence on the system. All the results were still between \n",
    "75-76%, which is worse than the Unigram or Bigram models. The VectorCount for Unigram does around \n",
    "82-86% accuracy, with the Keras and LR model doing the best. The Bigram does around 86-88%\n",
    "accuracy.\n",
    "\n",
    "Future Ideas:\n",
    "    Explore Bigram models more. \n",
    "    Explore trigram models.\n",
    "    \n",
    "'''"
   ]
  },
  {
   "cell_type": "code",
   "execution_count": null,
   "metadata": {},
   "outputs": [],
   "source": []
  }
 ],
 "metadata": {
  "kernelspec": {
   "display_name": "Python 3",
   "language": "python",
   "name": "python3"
  },
  "language_info": {
   "codemirror_mode": {
    "name": "ipython",
    "version": 3
   },
   "file_extension": ".py",
   "mimetype": "text/x-python",
   "name": "python",
   "nbconvert_exporter": "python",
   "pygments_lexer": "ipython3",
   "version": "3.6.5"
  }
 },
 "nbformat": 4,
 "nbformat_minor": 2
}
