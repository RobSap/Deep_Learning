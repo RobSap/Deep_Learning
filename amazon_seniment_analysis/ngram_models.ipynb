{
 "cells": [
  {
   "cell_type": "code",
   "execution_count": 1,
   "metadata": {},
   "outputs": [
    {
     "name": "stderr",
     "output_type": "stream",
     "text": [
      "/usr/local/lib/python3.6/site-packages/h5py/__init__.py:36: FutureWarning: Conversion of the second argument of issubdtype from `float` to `np.floating` is deprecated. In future, it will be treated as `np.float64 == np.dtype(float).type`.\n",
      "  from ._conv import register_converters as _register_converters\n",
      "Using TensorFlow backend.\n"
     ]
    }
   ],
   "source": [
    "#Import\n",
    "import sys\n",
    "\n",
    "from random import shuffle\n",
    "import numpy as np\n",
    "import matplotlib.pyplot as plt\n",
    "import json\n",
    "import pandas as pd\n",
    "from pandas.io.json import json_normalize\n",
    "\n",
    "from sklearn.feature_extraction import text \n",
    "from sklearn.feature_extraction.text import CountVectorizer\n",
    "from sklearn.linear_model import LogisticRegression\n",
    "from sklearn.model_selection import train_test_split\n",
    "from sklearn.metrics import accuracy_score\n",
    "from sklearn.ensemble import GradientBoostingClassifier\n",
    "from sklearn.naive_bayes import MultinomialNB\n",
    "\n",
    "from keras import regularizers\n",
    "from keras.layers import Dense\n",
    "from keras.layers import Dropout\n",
    "from keras import models\n",
    "from keras import layers\n",
    "from keras.utils import to_categorical\n",
    "from keras import optimizers\n",
    "from keras import losses\n",
    "from keras import metrics\n",
    "\n",
    "import nltk\n",
    "from nltk.corpus import stopwords\n",
    "\n"
   ]
  },
  {
   "cell_type": "code",
   "execution_count": 2,
   "metadata": {},
   "outputs": [
    {
     "name": "stdout",
     "output_type": "stream",
     "text": [
      "Reading in file\n",
      "On file 1 out of 1\n",
      "Shuffle the order, limiting entries to 500000\n",
      "Making df\n",
      "Binning y\n",
      "Percent positive reviews: 0.7901740020470829\n",
      "Percent Negative reviews: 0.20982599795291712\n",
      "Finished with data\n"
     ]
    }
   ],
   "source": [
    "data = []\n",
    "print(\"Reading in file\")\n",
    "\n",
    "#json_list = ['reviews_Movies_and_TV_5.json','reviews_Amazon_Instant_Video_5.json']\n",
    "#json_list = ['reviews_Movies_and_TV_5.json'] #Used for big data\n",
    "json_list = ['reviews_Amazon_Instant_Video_5.json'] # USed for fast testing\n",
    "counter = 0\n",
    "for file in json_list:\n",
    "    counter +=1\n",
    "    print(\"On file \" + str(counter) + \" out of \" + str(len(json_list)))\n",
    "    with open('/Volumes/TOSHIBA/desktop/data_sets/'+ file) as f:\n",
    "        for line in f:\n",
    "            data.append(json.loads(line))\n",
    "\n",
    "            \n",
    "limit = 500000\n",
    "print(\"Shuffle the order, limiting entries to \" + str(limit))\n",
    "shuffle(data)\n",
    "\n",
    "\n",
    "print(\"Making df\")\n",
    "df = pd.DataFrame.from_dict(json_normalize(data[:limit]), orient='columns')\n",
    "    #print(df)\n",
    "    #df = df.values.tolist()\n",
    "     \n",
    "header = df.columns.tolist()\n",
    "    \n",
    "        \n",
    "    # Remove unneeded special characters by encoding to ascii and then recoding to utf-8\n",
    "df.reviewText = df.reviewText.str.encode('ascii', 'ignore')\n",
    "df.reviewText = df.reviewText.str.decode('utf-8')\n",
    "stop_words = set(stopwords.words('english'))\n",
    "# Removing stopwords - you need a list called stopwords defining your stopwords\n",
    "df.reviewText = df.reviewText.apply(lambda x: ' '.join([word for word in x.split() if word not in (stop_words)]))\n",
    "    \n",
    "    \n",
    "df=df.values\n",
    "data = list(df)\n",
    "x_train = []\n",
    "y_train = []\n",
    "print(\"Binning y\")\n",
    "#print(header)\n",
    "help_count = 0\n",
    "\n",
    "for i in range(0,(len(data))):\n",
    "    #print(data[i])\n",
    "    #input(\"Press enter to continue\")  \n",
    "\n",
    "    x_train.append(data[i][3])\n",
    "    if data[i][2] <=3:\n",
    "        y_train.append(0)\n",
    "    else:\n",
    "        y_train.append(1)\n",
    "value = sum(y_train)\n",
    "positive = value/len(y_train)\n",
    "negative = 1 - positive\n",
    "print(\"Percent positive reviews: \" + str(positive))\n",
    "print(\"Percent Negative reviews: \" + str(negative))\n",
    "print(\"Finished with data\")"
   ]
  },
  {
   "cell_type": "code",
   "execution_count": 3,
   "metadata": {},
   "outputs": [
    {
     "name": "stdout",
     "output_type": "stream",
     "text": [
      "Vectorizing data, this may take a while depening on the n-gram model and the size of the data\n"
     ]
    }
   ],
   "source": [
    "\n",
    "print(\"Vectorizing data, this may take a while depening on the n-gram model and the size of the data\")\n",
    "\n",
    "#CountVectorizer data 0: Unigram, 1: Unigram and Bigram, 2: Bigram\n",
    "flag = 0 \n",
    "vectorizer = []\n",
    "if flag ==0:\n",
    "#Unigram\n",
    "    temp = CountVectorizer(min_df=5,analyzer = 'word',stop_words=stop_words,ngram_range=(1,1))\n",
    "    vectorizer = temp.fit(x_train)\n",
    "elif flag ==1:\n",
    "    #Unigram and Bigram\n",
    "    vectorizer = CountVectorizer(min_df=3,analyzer= 'word',stop_words=stop_words,ngram_range=(1, 2)).fit(x_train)\n",
    "elif flag ==2:\n",
    "        #Bigram\n",
    "    vectorizer = CountVectorizer(min_df=2,analyzer = 'word',stop_words=stop_words,ngram_range=(2, 2)).fit(x_train)\n",
    "\n",
    "x_train = vectorizer.transform(x_train)\n"
   ]
  },
  {
   "cell_type": "code",
   "execution_count": 4,
   "metadata": {},
   "outputs": [
    {
     "name": "stderr",
     "output_type": "stream",
     "text": [
      "/usr/local/lib/python3.6/site-packages/sklearn/feature_extraction/text.py:1089: FutureWarning: Conversion of the second argument of issubdtype from `float` to `np.floating` is deprecated. In future, it will be treated as `np.float64 == np.dtype(float).type`.\n",
      "  if hasattr(X, 'dtype') and np.issubdtype(X.dtype, np.float):\n"
     ]
    }
   ],
   "source": [
    "from sklearn.feature_extraction.text import TfidfTransformer\n",
    "x_train = TfidfTransformer().fit_transform(x_train)\n"
   ]
  },
  {
   "cell_type": "code",
   "execution_count": 5,
   "metadata": {},
   "outputs": [
    {
     "name": "stdout",
     "output_type": "stream",
     "text": [
      "Splitting data\n",
      "Done splitting data\n"
     ]
    }
   ],
   "source": [
    "    print(\"Splitting data\")\n",
    "    x_train, x_test, y_train, y_test = train_test_split(x_train, y_train, random_state=69, shuffle=True, test_size=0.20)\n",
    "    y_train = np.asarray(y_train).astype('float32')\n",
    "    y_test = np.asarray(y_test).astype('float32')\n",
    "    print(\"Done splitting data\")"
   ]
  },
  {
   "cell_type": "code",
   "execution_count": 17,
   "metadata": {},
   "outputs": [
    {
     "name": "stdout",
     "output_type": "stream",
     "text": [
      "_________________________________________________________________\n",
      "Layer (type)                 Output Shape              Param #   \n",
      "=================================================================\n",
      "dense_4 (Dense)              (None, 64)                1161152   \n",
      "_________________________________________________________________\n",
      "dropout_2 (Dropout)          (None, 64)                0         \n",
      "_________________________________________________________________\n",
      "dense_5 (Dense)              (None, 32)                2080      \n",
      "_________________________________________________________________\n",
      "dense_6 (Dense)              (None, 1)                 33        \n",
      "=================================================================\n",
      "Total params: 1,163,265\n",
      "Trainable params: 1,163,265\n",
      "Non-trainable params: 0\n",
      "_________________________________________________________________\n",
      "None\n"
     ]
    }
   ],
   "source": [
    "  \n",
    "    model = models.Sequential()\n",
    "    model.add(Dense(64, activation='relu',kernel_regularizer=regularizers.l2(0.001),input_shape= (x_train.shape[1],)))\n",
    "    model.add(Dropout(.20))\n",
    "    model.add(Dense(32, activation='relu',))\n",
    "    model.add(layers.Dense(1,activation='sigmoid'))\n",
    "    model.compile(optimizer='rmsprop',loss='binary_crossentropy', metrics=['acc'])\n",
    "    print(model.summary())"
   ]
  },
  {
   "cell_type": "code",
   "execution_count": 7,
   "metadata": {},
   "outputs": [
    {
     "name": "stdout",
     "output_type": "stream",
     "text": [
      "Train on 29700 samples, validate on 7426 samples\n",
      "Epoch 1/20\n",
      "29700/29700 [==============================] - 10s 321us/step - loss: 0.4840 - acc: 0.7960 - val_loss: 0.4002 - val_acc: 0.8267\n",
      "Epoch 2/20\n",
      "29700/29700 [==============================] - 9s 307us/step - loss: 0.3720 - acc: 0.8557 - val_loss: 0.3632 - val_acc: 0.8582\n",
      "Epoch 3/20\n",
      "29700/29700 [==============================] - 9s 306us/step - loss: 0.3418 - acc: 0.8746 - val_loss: 0.3585 - val_acc: 0.8608\n",
      "Epoch 4/20\n",
      "29700/29700 [==============================] - 12s 397us/step - loss: 0.3261 - acc: 0.8812 - val_loss: 0.3693 - val_acc: 0.8598\n",
      "Epoch 5/20\n",
      "29700/29700 [==============================] - 11s 354us/step - loss: 0.3183 - acc: 0.8848 - val_loss: 0.3736 - val_acc: 0.8489\n",
      "Epoch 6/20\n",
      "29700/29700 [==============================] - 11s 364us/step - loss: 0.3133 - acc: 0.8873 - val_loss: 0.3642 - val_acc: 0.8562\n",
      "Epoch 7/20\n",
      "29700/29700 [==============================] - 10s 330us/step - loss: 0.3079 - acc: 0.8889 - val_loss: 0.3771 - val_acc: 0.8493\n",
      "Epoch 8/20\n",
      "29700/29700 [==============================] - 9s 317us/step - loss: 0.3028 - acc: 0.8942 - val_loss: 0.3633 - val_acc: 0.8602\n",
      "Epoch 9/20\n",
      "29700/29700 [==============================] - 9s 315us/step - loss: 0.2970 - acc: 0.8952 - val_loss: 0.3839 - val_acc: 0.8581\n",
      "Epoch 10/20\n",
      "29700/29700 [==============================] - 9s 316us/step - loss: 0.2914 - acc: 0.8989 - val_loss: 0.3749 - val_acc: 0.8554\n",
      "Epoch 11/20\n",
      "29700/29700 [==============================] - 9s 316us/step - loss: 0.2852 - acc: 0.9046 - val_loss: 0.3732 - val_acc: 0.8586\n",
      "Epoch 12/20\n",
      "29700/29700 [==============================] - 9s 317us/step - loss: 0.2780 - acc: 0.9079 - val_loss: 0.3813 - val_acc: 0.8547\n",
      "Epoch 13/20\n",
      "29700/29700 [==============================] - 9s 317us/step - loss: 0.2700 - acc: 0.9125 - val_loss: 0.3814 - val_acc: 0.8612\n",
      "Epoch 14/20\n",
      "29700/29700 [==============================] - 11s 355us/step - loss: 0.2641 - acc: 0.9163 - val_loss: 0.3858 - val_acc: 0.8597\n",
      "Epoch 15/20\n",
      "29700/29700 [==============================] - 12s 401us/step - loss: 0.2555 - acc: 0.9204 - val_loss: 0.3953 - val_acc: 0.8612\n",
      "Epoch 16/20\n",
      "29700/29700 [==============================] - 10s 328us/step - loss: 0.2461 - acc: 0.9261 - val_loss: 0.4065 - val_acc: 0.8535\n",
      "Epoch 17/20\n",
      "29700/29700 [==============================] - 9s 313us/step - loss: 0.2378 - acc: 0.9317 - val_loss: 0.4233 - val_acc: 0.8519\n",
      "Epoch 18/20\n",
      "29700/29700 [==============================] - 11s 381us/step - loss: 0.2292 - acc: 0.9348 - val_loss: 0.4210 - val_acc: 0.8581\n",
      "Epoch 19/20\n",
      "29700/29700 [==============================] - 11s 354us/step - loss: 0.2188 - acc: 0.9399 - val_loss: 0.4461 - val_acc: 0.8567\n",
      "Epoch 20/20\n",
      "29700/29700 [==============================] - 10s 347us/step - loss: 0.2112 - acc: 0.9449 - val_loss: 0.4378 - val_acc: 0.8571\n"
     ]
    }
   ],
   "source": [
    "# train model with validation set\n",
    "epochs = 20\n",
    "batch_size = 256\n",
    "history = model.fit(x_train,y_train, epochs=epochs,validation_data=((x_test),(y_test)), batch_size=batch_size)"
   ]
  },
  {
   "cell_type": "code",
   "execution_count": 18,
   "metadata": {},
   "outputs": [
    {
     "data": {
      "image/png": "[encoded data removed]",
      "text/plain": [
       "<Figure size 432x288 with 1 Axes>"
      ]
     },
     "metadata": {
      "needs_background": "light"
     },
     "output_type": "display_data"
    },
    {
     "data": {
      "image/png": "[encoded data removed]",
      "text/plain": [
       "<Figure size 432x288 with 1 Axes>"
      ]
     },
     "metadata": {
      "needs_background": "light"
     },
     "output_type": "display_data"
    }
   ],
   "source": [
    "    history_dict = history.history\n",
    "    loss_values = history_dict['loss']\n",
    "    loss_values = np.array(loss_values)\n",
    "    val_loss_values = history_dict['val_loss']\n",
    "    val_loss_values = np.array(val_loss_values)\n",
    "    acc_values = history_dict['acc']\n",
    "    acc_values = np.array(acc_values)\n",
    "    val_acc_values = history_dict['val_acc']\n",
    "    val_acc_values = np.array(val_acc_values)\n",
    "\n",
    "    \n",
    "    x_labels = list(range(1, len(loss_values) + 1,1))\n",
    "\n",
    "\n",
    "    #This will show the training and validation loss per epoch\n",
    "    plt.plot(x_labels, loss_values, label='Training loss')\n",
    "    plt.plot(x_labels, val_loss_values, label='Validation loss')\n",
    "    plt.title('Training and validation loss')\n",
    "    plt.xlabel('Epochs')\n",
    "    plt.ylabel('Loss')\n",
    "    plt.xticks(x_labels)\n",
    "    plt.legend()\n",
    "    plt.show()\n",
    "\n",
    "    #This will show the training and validation accuracy per epoch\n",
    "    plt.clf()\n",
    "    plt.plot(x_labels, acc_values, 'bo', label='Training acc')\n",
    "    plt.plot(x_labels, val_acc_values, 'b', label='Validation acc')\n",
    "    plt.title('Training and validation accuracy')\n",
    "    plt.xlabel('Epochs')\n",
    "    plt.ylabel('Accuracy')\n",
    "    plt.xticks(x_labels)\n",
    "    plt.legend()\n",
    "    plt.show()"
   ]
  },
  {
   "cell_type": "code",
   "execution_count": 19,
   "metadata": {},
   "outputs": [
    {
     "name": "stdout",
     "output_type": "stream",
     "text": [
      "Epoch 1/5\n",
      "29700/29700 [==============================] - 10s 337us/step - loss: 0.4739 - acc: 0.7985\n",
      "Epoch 2/5\n",
      "29700/29700 [==============================] - 8s 283us/step - loss: 0.3712 - acc: 0.8585\n",
      "Epoch 3/5\n",
      "29700/29700 [==============================] - 8s 279us/step - loss: 0.3460 - acc: 0.8736\n",
      "Epoch 4/5\n",
      "29700/29700 [==============================] - 8s 279us/step - loss: 0.3334 - acc: 0.8796\n",
      "Epoch 5/5\n",
      "29700/29700 [==============================] - 8s 279us/step - loss: 0.3256 - acc: 0.8828\n",
      "7426/7426 [==============================] - 2s 296us/step\n",
      "loss: 0.3706914784610994\n",
      "accuracy: 0.8575276057096687\n"
     ]
    }
   ],
   "source": [
    "epochs = 5\n",
    "batch_size= 256\n",
    "model.fit(x_train,y_train, epochs=epochs, batch_size=batch_size)\n",
    "loss,accuracy = model.evaluate((x_test),(y_test))\n",
    "print(\"loss: \"+ str(loss))\n",
    "print(\"accuracy: \"+ str(accuracy))"
   ]
  },
  {
   "cell_type": "code",
   "execution_count": 20,
   "metadata": {},
   "outputs": [
    {
     "name": "stdout",
     "output_type": "stream",
     "text": [
      "Percent positive reviews: 0.7916778884998653\n",
      "Percent Negative reviews: 0.2083221115001347\n",
      "Finished with data\n"
     ]
    }
   ],
   "source": [
    "accuracys = []\n",
    "accuracys.append(accuracy)\n",
    "\n",
    "value = sum(y_test)\n",
    "positive = value/len(y_test)\n",
    "negative = 1 - positive\n",
    "print(\"Percent positive reviews: \" + str(positive))\n",
    "print(\"Percent Negative reviews: \" + str(negative))\n",
    "print(\"Finished with data\")\n",
    "\n",
    "size = len(y_test)\n",
    "\n",
    "listofzeros = [0] * size\n",
    "accuracy = accuracy_score(y_test, listofzeros)\n",
    "accuracys.append(accuracy)\n",
    "del listofzeros\n",
    "\n",
    "\n",
    "listofones = [1] * size\n",
    "accuracy = accuracy_score(y_test, listofones)\n",
    "accuracys.append(accuracy)\n",
    "del listofones\n",
    "\n"
   ]
  },
  {
   "cell_type": "code",
   "execution_count": 21,
   "metadata": {},
   "outputs": [
    {
     "name": "stdout",
     "output_type": "stream",
     "text": [
      "Running XGBoost\n",
      "GBC\n",
      "accuracy 0.824535416105575\n"
     ]
    }
   ],
   "source": [
    "    print(\"Running XGBoost\")\n",
    "    model = GradientBoostingClassifier(n_estimators=100)\n",
    "    model.fit(x_train, y_train)\n",
    "    results2 = model.predict(x_test)\n",
    "    accuracy = accuracy_score(y_test, results2)\n",
    "    accuracys.append(accuracy)\n",
    "\n",
    "    print(\"GBC\")\n",
    "    print(\"accuracy \" + str(accuracy))\n",
    "\n"
   ]
  },
  {
   "cell_type": "code",
   "execution_count": 22,
   "metadata": {},
   "outputs": [
    {
     "name": "stdout",
     "output_type": "stream",
     "text": [
      "Running LR\n",
      "LR\n",
      "accuracy 0.860490169674118\n"
     ]
    }
   ],
   "source": [
    "    print(\"Running LR\")\n",
    "    lrmodel =LogisticRegression(penalty='l2', solver='newton-cg')\n",
    "    fitmodel =lrmodel.fit(x_train, y_train)\n",
    "    results = fitmodel.predict(x_test)\n",
    "\n",
    "    #print(y_test) \n",
    "    accuracy = accuracy_score(y_test, results)\n",
    "    accuracys.append(accuracy)\n",
    "    print(\"LR\")\n",
    "    print(\"accuracy \" + str(accuracy))"
   ]
  },
  {
   "cell_type": "code",
   "execution_count": 23,
   "metadata": {},
   "outputs": [
    {
     "name": "stdout",
     "output_type": "stream",
     "text": [
      "Multinomial BB\n",
      "Accuracy 0.824535416105575\n"
     ]
    }
   ],
   "source": [
    "    clf = MultinomialNB()\n",
    "    clf = clf.fit(x_train, y_train)\n",
    "    scores= (clf.predict(x_test))\n",
    "    accuracy = accuracy_score(y_test, results2)\n",
    "    accuracys.append(accuracy)\n",
    "    print(\"Multinomial BB\")\n",
    "    print( \"Accuracy \" + str(accuracy ))\n",
    "    "
   ]
  },
  {
   "cell_type": "code",
   "execution_count": 24,
   "metadata": {},
   "outputs": [
    {
     "data": {
      "image/png": "[encoded data removed]",
      "text/plain": [
       "<Figure size 432x288 with 1 Axes>"
      ]
     },
     "metadata": {
      "needs_background": "light"
     },
     "output_type": "display_data"
    }
   ],
   "source": [
    "    names = [\"Keras\",\"all neg\", \"all pos\",\"XGBoost\",\"LR\", \"NB\"]\n",
    "   \n",
    "   \n",
    "    \n",
    "    y_len = np.arange(len(accuracys))\n",
    "    fig, ax = plt.subplots()\n",
    "\n",
    "    chart= plt.bar(y_len, accuracys, align='center')#, alpha=0.5)\n",
    "    plt.xticks(y_len, names)\n",
    "    plt.ylim(0.0, 1.0)\n",
    "    plt.ylabel('Accuracy')\n",
    "    plt.title('Difference in Accuracy')\n",
    "    plt.legend(names)\n",
    "\n",
    "    i=0\n",
    "    for bar in chart:\n",
    "        height = bar.get_height()\n",
    "        #print(height)\n",
    "        ax.text(bar.get_x() + bar.get_width()/2., height,'%d' % int(height*100) + \"%\", ha='center', va='bottom')\n",
    "\n",
    "        i+=1\n",
    "    plt.tight_layout()\n",
    "    plt.show()"
   ]
  },
  {
   "cell_type": "code",
   "execution_count": null,
   "metadata": {},
   "outputs": [],
   "source": [
    "#Summary of results\n",
    "'''\n",
    "From what we can see abouve, using an Unigram, or this case a bag of words model, \n",
    "we get about 86% accuracy. A tuned Keras model performs about as well as a untuned LR model. \n",
    "Using a Bigram we see slightly better accuracy than Unigram, but again the Keras model \n",
    "performs about the same as the LR model. The next step is to take advantage of Keras \n",
    "Tokenizer and embedding. Maybe this will let us score better ?\n",
    "\n",
    "'''"
   ]
  },
  {
   "cell_type": "code",
   "execution_count": null,
   "metadata": {},
   "outputs": [],
   "source": []
  }
 ],
 "metadata": {
  "kernelspec": {
   "display_name": "Python 3",
   "language": "python",
   "name": "python3"
  },
  "language_info": {
   "codemirror_mode": {
    "name": "ipython",
    "version": 3
   },
   "file_extension": ".py",
   "mimetype": "text/x-python",
   "name": "python",
   "nbconvert_exporter": "python",
   "pygments_lexer": "ipython3",
   "version": "3.6.5"
  }
 },
 "nbformat": 4,
 "nbformat_minor": 2
}
