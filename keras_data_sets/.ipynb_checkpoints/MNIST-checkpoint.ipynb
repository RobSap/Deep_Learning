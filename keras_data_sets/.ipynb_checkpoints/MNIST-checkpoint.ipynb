{
 "cells": [
  {
   "cell_type": "code",
   "execution_count": 73,
   "metadata": {},
   "outputs": [],
   "source": [
    "#This is the MNist (National Institute of Standards and Technology ) data set that comes with Keras\n",
    "#10,000 test images\n",
    "#60,000 training images\n",
    "\n",
    "#The hello world of deep learning\n",
    "\n",
    "#Import\n",
    "from keras.datasets import mnist\n",
    "from keras import models\n",
    "from keras import layers\n",
    "from keras.utils import to_categorical\n",
    "from keras import regularizers\n",
    "import sys\n",
    "import matplotlib.pyplot as plt\n",
    "import numpy as np\n",
    "from sklearn.model_selection import train_test_split\n",
    "from keras import layers\n",
    "from keras import models\n"
   ]
  },
  {
   "cell_type": "code",
   "execution_count": 74,
   "metadata": {},
   "outputs": [
    {
     "data": {
      "image/png": "[encoded data removed]",
      "text/plain": [
       "<Figure size 432x288 with 1 Axes>"
      ]
     },
     "metadata": {
      "needs_background": "light"
     },
     "output_type": "display_data"
    }
   ],
   "source": [
    "\n",
    "#load the data\n",
    "(x_train, y_train), (x_test, y_test) = mnist.load_data()\n",
    "\n",
    "#To display an example image, here is one digit\n",
    "digit = x_train[0]\n",
    "plt.imshow(digit, cmap=plt.cm.binary)\n",
    "plt.show()\n",
    "\n"
   ]
  },
  {
   "cell_type": "code",
   "execution_count": 75,
   "metadata": {},
   "outputs": [],
   "source": [
    "split = 0.2\n",
    "#Now lets split up the training data into training and validation, not touching the test data\n",
    "partial_x_train, x_val, partial_y_train, y_val = train_test_split(x_train, y_train, random_state=69, shuffle=True, test_size=split)\n",
    "\n"
   ]
  },
  {
   "cell_type": "code",
   "execution_count": 76,
   "metadata": {},
   "outputs": [],
   "source": [
    "#Change the shape for single dimension output\n",
    "\n",
    "#Change values from uint8 (0 to 255) to float32 (0 to 1)\n",
    "partial_x_train = partial_x_train.reshape((int(60000*(1-split)),28*28))\n",
    "partial_x_train = partial_x_train.astype('float32')/255  \n",
    "x_val = x_val.reshape((int(60000*split), 28*28))\n",
    "x_val = x_val.astype('float32')/255\n",
    "\n",
    "\n",
    "#Change the shape for single dimension output\n",
    "\n",
    "#Change values from uint8 (0 to 255) to float32 (0 to 1)\n",
    "x_train = x_train.reshape((60000,28*28))\n",
    "x_train = x_train.astype('float32')/255    \n",
    "x_test = x_test.reshape((10000, 28*28))\n",
    "x_test = x_test.astype('float32')/255\n",
    "\n",
    "\n"
   ]
  },
  {
   "cell_type": "code",
   "execution_count": 77,
   "metadata": {},
   "outputs": [
    {
     "data": {
      "image/png": "[encoded data removed]",
      "text/plain": [
       "<Figure size 432x288 with 1 Axes>"
      ]
     },
     "metadata": {
      "needs_background": "light"
     },
     "output_type": "display_data"
    }
   ],
   "source": [
    "\n",
    "#Lets explore our training data. This is our total y labels for training and validation data\n",
    "count = {}\n",
    "for i in range(0,10):\n",
    "    count[i]=0\n",
    "    \n",
    "for line in y_train:\n",
    "    count[line]+=1\n",
    "\n",
    "plt.clf()\n",
    "values = np.array(list(count.values()))\n",
    "\n",
    "display = [0,1,2,3,4,5,6,7,8,9]\n",
    "plt.bar(display, values, align='center', label='Digits')\n",
    "plt.xticks(display,display)\n",
    "plt.ylim(ymin=5000)\n",
    "plt.yticks(np.arange(5000, 6801, 200))\n",
    "plt.ylabel('Frequency')\n",
    "plt.xlabel('Number')\n",
    "plt.title('Data Distribuation')\n",
    "plt.legend()\n",
    "plt.show()\n",
    "\n"
   ]
  },
  {
   "cell_type": "code",
   "execution_count": 78,
   "metadata": {},
   "outputs": [],
   "source": [
    "#Turn the output y into an array of [0,1,0,0,...]'s to to be categorical.\n",
    "#ex[0,0,0,0,0,0,0,0,1] - would indicate the value is a 9\n",
    "partial_y_train = to_categorical(partial_y_train)\n",
    "y_val = to_categorical(y_val)\n",
    "\n",
    "\n",
    "y_test = to_categorical(y_test)\n",
    "y_train = to_categorical(y_train)"
   ]
  },
  {
   "cell_type": "code",
   "execution_count": 79,
   "metadata": {},
   "outputs": [
    {
     "data": {
      "text/plain": [
       "'\\n#Baseline2\\n#This does best at 12 epochs, val_acc = 0.9762 and 12 epochs  test_acc = 0.9771\\nmodel.add(layers.Dense(512, kernel_regularizer=regularizers.l2(0.001),activation = \\'relu\\', input_shape = (28*28,)))\\n\\n#This is the output layer, need 10 for 10 classificationsi, returns an array of 10\\nmodel.add(layers.Dense(10,activation=\\'softmax\\'))\\nmodel.compile(optimizer=\"rmsprop\", loss=\"categorical_crossentropy\", metrics=[\"accuracy\"])\\n'"
      ]
     },
     "execution_count": 79,
     "metadata": {},
     "output_type": "execute_result"
    }
   ],
   "source": [
    "#Create the model. These are two NN implementations.\n",
    "#This is used as a baseline, while the CNN is the real implementation\n",
    "\n",
    "\n",
    "#Baseline 1\n",
    "#This does best at 5 epochs val_acc=0.9797, and 5 epochs test_acc=0.9822\n",
    "model = models.Sequential()\n",
    "model.add(layers.Dense(512, activation = 'relu', input_shape = (28*28,)))  \n",
    "\n",
    "#This is the output layer, need 10 for 10 classificationsi, returns an array of 10\n",
    "model.add(layers.Dense(10,activation='softmax'))\n",
    "model.compile(optimizer=\"rmsprop\", loss=\"categorical_crossentropy\", metrics=[\"accuracy\"])\n",
    "\n",
    "'''\n",
    "#Baseline2\n",
    "#This does best at 12 epochs, val_acc = 0.9762 and 12 epochs  test_acc = 0.9771\n",
    "model.add(layers.Dense(512, kernel_regularizer=regularizers.l2(0.001),activation = 'relu', input_shape = (28*28,)))\n",
    "\n",
    "#This is the output layer, need 10 for 10 classificationsi, returns an array of 10\n",
    "model.add(layers.Dense(10,activation='softmax'))\n",
    "model.compile(optimizer=\"rmsprop\", loss=\"categorical_crossentropy\", metrics=[\"accuracy\"])\n",
    "'''\n"
   ]
  },
  {
   "cell_type": "code",
   "execution_count": 80,
   "metadata": {},
   "outputs": [
    {
     "name": "stdout",
     "output_type": "stream",
     "text": [
      "Train on 48000 samples, validate on 12000 samples\n",
      "Epoch 1/10\n",
      "48000/48000 [==============================] - 12s 247us/step - loss: 0.2469 - acc: 0.9269 - val_loss: 0.1259 - val_acc: 0.9607\n",
      "Epoch 2/10\n",
      "48000/48000 [==============================] - 11s 232us/step - loss: 0.1033 - acc: 0.9697 - val_loss: 0.1059 - val_acc: 0.9681\n",
      "Epoch 3/10\n",
      "48000/48000 [==============================] - 9s 186us/step - loss: 0.0688 - acc: 0.9797 - val_loss: 0.0896 - val_acc: 0.9741\n",
      "Epoch 4/10\n",
      "48000/48000 [==============================] - 9s 187us/step - loss: 0.0491 - acc: 0.9854 - val_loss: 0.0816 - val_acc: 0.9759\n",
      "Epoch 5/10\n",
      "48000/48000 [==============================] - 9s 187us/step - loss: 0.0383 - acc: 0.9887 - val_loss: 0.0758 - val_acc: 0.9788\n",
      "Epoch 6/10\n",
      "48000/48000 [==============================] - 9s 188us/step - loss: 0.0278 - acc: 0.9916 - val_loss: 0.0903 - val_acc: 0.9751\n",
      "Epoch 7/10\n",
      "48000/48000 [==============================] - 9s 188us/step - loss: 0.0219 - acc: 0.9935 - val_loss: 0.0945 - val_acc: 0.9755\n",
      "Epoch 8/10\n",
      "48000/48000 [==============================] - 9s 190us/step - loss: 0.0169 - acc: 0.9950 - val_loss: 0.0875 - val_acc: 0.9782\n",
      "Epoch 9/10\n",
      "48000/48000 [==============================] - 9s 190us/step - loss: 0.0125 - acc: 0.9963 - val_loss: 0.0890 - val_acc: 0.9806\n",
      "Epoch 10/10\n",
      "48000/48000 [==============================] - 9s 193us/step - loss: 0.0103 - acc: 0.9971 - val_loss: 0.0896 - val_acc: 0.9795\n"
     ]
    }
   ],
   "source": [
    "\n",
    "#Randomly pick 10 epochs and batch_size 64\n",
    "epochs = 10\n",
    "batch_size = 64\n",
    "history = model.fit(np.array(partial_x_train), np.array(partial_y_train), epochs=epochs, batch_size=batch_size, validation_data=(np.array(x_val),np.array(y_val)))\n",
    "\n"
   ]
  },
  {
   "cell_type": "code",
   "execution_count": 81,
   "metadata": {},
   "outputs": [
    {
     "data": {
      "image/png": "[encoded data removed]",
      "text/plain": [
       "<Figure size 432x288 with 1 Axes>"
      ]
     },
     "metadata": {
      "needs_background": "light"
     },
     "output_type": "display_data"
    },
    {
     "data": {
      "image/png": "[encoded data removed]",
      "text/plain": [
       "<Figure size 432x288 with 1 Axes>"
      ]
     },
     "metadata": {
      "needs_background": "light"
     },
     "output_type": "display_data"
    }
   ],
   "source": [
    "\n",
    "#Now lets evaluate the results we seen\n",
    "history_dict = history.history\n",
    "\n",
    "loss_values = history_dict['loss']\n",
    "loss_values = np.array(loss_values)\n",
    "\n",
    "\n",
    "val_loss_values = history_dict['val_loss']\n",
    "val_loss_values = np.array(val_loss_values)\n",
    "\n",
    "epochs = range(1, len(loss_values) + 1)\n",
    "\n",
    "plt.plot(epochs, loss_values, label='Training loss')\n",
    "plt.plot(epochs, val_loss_values, label='Validation loss')\n",
    "plt.title('Training and validation loss')\n",
    "plt.xlabel('Epochs')\n",
    "plt.ylabel('Loss')\n",
    "plt.legend()\n",
    "plt.show()\n",
    "\n",
    "plt.clf()\n",
    "acc_values = history_dict['acc']\n",
    "val_acc_values = history_dict['val_acc']\n",
    "plt.plot(epochs, acc_values, 'bo', label='Training acc')\n",
    "plt.plot(epochs, val_acc_values, 'b', label='Validation acc')\n",
    "plt.title('Training and validation accuracy')\n",
    "plt.xlabel('Epochs')\n",
    "plt.ylabel('Accuracy')\n",
    "plt.legend()\n",
    "plt.show()"
   ]
  },
  {
   "cell_type": "code",
   "execution_count": 82,
   "metadata": {},
   "outputs": [
    {
     "name": "stdout",
     "output_type": "stream",
     "text": [
      "Epoch 1/5\n",
      "60000/60000 [==============================] - 10s 166us/step - loss: 0.0272 - acc: 0.9933\n",
      "Epoch 2/5\n",
      "60000/60000 [==============================] - 10s 164us/step - loss: 0.0180 - acc: 0.9954\n",
      "Epoch 3/5\n",
      "60000/60000 [==============================] - 10s 168us/step - loss: 0.0142 - acc: 0.9963\n",
      "Epoch 4/5\n",
      "60000/60000 [==============================] - 10s 164us/step - loss: 0.0106 - acc: 0.9971\n",
      "Epoch 5/5\n",
      "60000/60000 [==============================] - 13s 211us/step - loss: 0.0096 - acc: 0.9975\n",
      "10000/10000 [==============================] - 1s 79us/step\n",
      "Loss 0.09809457469672771\n",
      "Accuracy 0.9811\n"
     ]
    }
   ],
   "source": [
    "#Fit/Train the model based on eval above\n",
    "#Since accuracy looks best at 5 epochs, we select 5\n",
    "model.fit(x_train, y_train, epochs = 5, batch_size=64)\n",
    " \n",
    "#See how accurate the training model is against a test set\n",
    "loss, accuracy = model.evaluate(x_test,y_test)\n",
    "print(\"Loss \" + str(loss))\n",
    "print(\"Accuracy \" + str(accuracy))"
   ]
  },
  {
   "cell_type": "code",
   "execution_count": 88,
   "metadata": {},
   "outputs": [],
   "source": [
    "#Lets reload that data, but this time, lets leave it in matrix format\n",
    "(x_train, y_train), (x_test, y_test) = mnist.load_data()\n",
    "\n",
    "split = 0.2\n",
    "#Now lets split up the training data into training and validation, not touching the test data\n",
    "partial_x_train, x_val, partial_y_train, y_val = train_test_split(x_train, y_train, random_state=69, shuffle=True, test_size=split)\n",
    "\n",
    "#Change values from uint8 (0 to 255) to float32 (0 to 1)\n",
    "partial_x_train = partial_x_train.reshape((int(60000*(1-split)),28,28,1))\n",
    "partial_x_train = partial_x_train.astype('float32')/255  \n",
    "x_val = x_val.reshape((int(60000*split), 28,28,1))\n",
    "x_val = x_val.astype('float32')/255\n",
    "\n",
    "\n",
    "#Change the shape for single dimension output\n",
    "#Change values from uint8 (0 to 255) to float32 (0 to 1)\n",
    "x_train = x_train.reshape((60000,28,28,1))\n",
    "x_train = x_train.astype('float32')/255    \n",
    "x_test = x_test.reshape((10000, 28,28,1))\n",
    "x_test = x_test.astype('float32')/255\n",
    "\n",
    "\n",
    "#Turn the output y into an array of [0,1,0,0,...]'s to to be categorical.\n",
    "#ex[0,0,0,0,0,0,0,0,1] - would indicate the value is a 9\n",
    "y_test = to_categorical(y_test)\n",
    "y_train = to_categorical(y_train)\n",
    "partial_y_train = to_categorical(partial_y_train)\n",
    "y_val = to_categorical(y_val)"
   ]
  },
  {
   "cell_type": "code",
   "execution_count": 89,
   "metadata": {},
   "outputs": [],
   "source": [
    "#This is a basic CNN. \n",
    "model = models.Sequential()\n",
    "model.add(layers.Conv2D(32,(3,3),activation='relu', input_shape=(28,28,1)))\n",
    "model.add(layers.MaxPooling2D((2,2)))\n",
    "model.add(layers.Dropout(0.5))\n",
    "model.add(layers.Conv2D(64,(3,3),activation='relu'))\n",
    "model.add(layers.MaxPooling2D((2,2)))\n",
    "model.add(layers.Dropout(0.5))\n",
    "model.add(layers.Conv2D(64,(3,3),activation='relu'))\n",
    "\n",
    "model.add(layers.Flatten())\n",
    "model.add(layers.Dense(64,activation='relu'))\n",
    "model.add(layers.Dense(10,activation='softmax'))\n",
    "model.compile(optimizer=\"rmsprop\", loss=\"categorical_crossentropy\", metrics=[\"accuracy\"])\n"
   ]
  },
  {
   "cell_type": "code",
   "execution_count": null,
   "metadata": {},
   "outputs": [],
   "source": []
  },
  {
   "cell_type": "code",
   "execution_count": 90,
   "metadata": {},
   "outputs": [
    {
     "name": "stdout",
     "output_type": "stream",
     "text": [
      "Train on 48000 samples, validate on 12000 samples\n",
      "Epoch 1/10\n",
      "48000/48000 [==============================] - 84s 2ms/step - loss: 0.3300 - acc: 0.8928 - val_loss: 0.0792 - val_acc: 0.9759\n",
      "Epoch 2/10\n",
      "48000/48000 [==============================] - 77s 2ms/step - loss: 0.1055 - acc: 0.9667 - val_loss: 0.0506 - val_acc: 0.9850\n",
      "Epoch 3/10\n",
      "48000/48000 [==============================] - 77s 2ms/step - loss: 0.0766 - acc: 0.9767 - val_loss: 0.0533 - val_acc: 0.9835\n",
      "Epoch 4/10\n",
      "48000/48000 [==============================] - 74s 2ms/step - loss: 0.0667 - acc: 0.9800 - val_loss: 0.0401 - val_acc: 0.9878\n",
      "Epoch 5/10\n",
      "48000/48000 [==============================] - 74s 2ms/step - loss: 0.0591 - acc: 0.9815 - val_loss: 0.0344 - val_acc: 0.9892\n",
      "Epoch 6/10\n",
      "48000/48000 [==============================] - 75s 2ms/step - loss: 0.0533 - acc: 0.9842 - val_loss: 0.0358 - val_acc: 0.9892\n",
      "Epoch 7/10\n",
      "48000/48000 [==============================] - 74s 2ms/step - loss: 0.0486 - acc: 0.9847 - val_loss: 0.0325 - val_acc: 0.9904\n",
      "Epoch 8/10\n",
      "48000/48000 [==============================] - 77s 2ms/step - loss: 0.0464 - acc: 0.9853 - val_loss: 0.0312 - val_acc: 0.9911\n",
      "Epoch 9/10\n",
      "48000/48000 [==============================] - 75s 2ms/step - loss: 0.0472 - acc: 0.9852 - val_loss: 0.0302 - val_acc: 0.9924\n",
      "Epoch 10/10\n",
      "48000/48000 [==============================] - 78s 2ms/step - loss: 0.0422 - acc: 0.9874 - val_loss: 0.0376 - val_acc: 0.9888\n"
     ]
    }
   ],
   "source": [
    "\n",
    "#Randomly pick 10 epochs and batch_size 64\n",
    "epochs = 10\n",
    "batch_size = 64\n",
    "history = model.fit(np.array(partial_x_train), np.array(partial_y_train), epochs=epochs, batch_size=batch_size, validation_data=(np.array(x_val),np.array(y_val)))\n",
    "\n"
   ]
  },
  {
   "cell_type": "code",
   "execution_count": 91,
   "metadata": {},
   "outputs": [
    {
     "data": {
      "image/png": "[encoded data removed]",
      "text/plain": [
       "<Figure size 432x288 with 1 Axes>"
      ]
     },
     "metadata": {
      "needs_background": "light"
     },
     "output_type": "display_data"
    },
    {
     "data": {
      "image/png": "[encoded data removed]",
      "text/plain": [
       "<Figure size 432x288 with 1 Axes>"
      ]
     },
     "metadata": {
      "needs_background": "light"
     },
     "output_type": "display_data"
    }
   ],
   "source": [
    "\n",
    "#Now lets evaluate the results we seen\n",
    "history_dict = history.history\n",
    "\n",
    "loss_values = history_dict['loss']\n",
    "loss_values = np.array(loss_values)\n",
    "\n",
    "\n",
    "val_loss_values = history_dict['val_loss']\n",
    "val_loss_values = np.array(val_loss_values)\n",
    "\n",
    "epochs = range(1, len(loss_values) + 1)\n",
    "\n",
    "plt.plot(epochs, loss_values, label='Training loss')\n",
    "plt.plot(epochs, val_loss_values, label='Validation loss')\n",
    "plt.title('Training and validation loss')\n",
    "plt.xlabel('Epochs')\n",
    "plt.ylabel('Loss')\n",
    "plt.legend()\n",
    "plt.show()\n",
    "\n",
    "plt.clf()\n",
    "acc_values = history_dict['acc']\n",
    "val_acc_values = history_dict['val_acc']\n",
    "plt.plot(epochs, acc_values, 'bo', label='Training acc')\n",
    "plt.plot(epochs, val_acc_values, 'b', label='Validation acc')\n",
    "plt.title('Training and validation accuracy')\n",
    "plt.xlabel('Epochs')\n",
    "plt.ylabel('Accuracy')\n",
    "plt.legend()\n",
    "plt.show()"
   ]
  },
  {
   "cell_type": "code",
   "execution_count": 93,
   "metadata": {},
   "outputs": [
    {
     "name": "stdout",
     "output_type": "stream",
     "text": [
      "Epoch 1/8\n",
      "60000/60000 [==============================] - 89s 1ms/step - loss: 0.0420 - acc: 0.9878\n",
      "Epoch 2/8\n",
      "60000/60000 [==============================] - 85s 1ms/step - loss: 0.0420 - acc: 0.9880\n",
      "Epoch 3/8\n",
      "60000/60000 [==============================] - 87s 1ms/step - loss: 0.0428 - acc: 0.9881\n",
      "Epoch 4/8\n",
      "60000/60000 [==============================] - 87s 1ms/step - loss: 0.0425 - acc: 0.9881\n",
      "Epoch 5/8\n",
      "60000/60000 [==============================] - 87s 1ms/step - loss: 0.0445 - acc: 0.9879\n",
      "Epoch 6/8\n",
      "60000/60000 [==============================] - 88s 1ms/step - loss: 0.0417 - acc: 0.9883\n",
      "Epoch 7/8\n",
      "60000/60000 [==============================] - 89s 1ms/step - loss: 0.0421 - acc: 0.9887\n",
      "Epoch 8/8\n",
      "60000/60000 [==============================] - 89s 1ms/step - loss: 0.0442 - acc: 0.9876\n",
      "10000/10000 [==============================] - 5s 476us/step\n",
      "Loss 0.028112076722324127\n",
      "Accuracy 0.9921\n"
     ]
    }
   ],
   "source": [
    "\n",
    "#Fit/Train the model \n",
    "model.fit(x_train, y_train, epochs = 8, batch_size=64)\n",
    " \n",
    "#See how accurate the training model is against a test set\n",
    "loss, accuracy = model.evaluate(x_test,y_test)\n",
    "print(\"Loss \" + str(loss))\n",
    "print(\"Accuracy \" + str(accuracy))"
   ]
  },
  {
   "cell_type": "code",
   "execution_count": null,
   "metadata": {},
   "outputs": [],
   "source": []
  },
  {
   "cell_type": "code",
   "execution_count": null,
   "metadata": {},
   "outputs": [],
   "source": []
  }
 ],
 "metadata": {
  "kernelspec": {
   "display_name": "Python 3",
   "language": "python",
   "name": "python3"
  },
  "language_info": {
   "codemirror_mode": {
    "name": "ipython",
    "version": 3
   },
   "file_extension": ".py",
   "mimetype": "text/x-python",
   "name": "python",
   "nbconvert_exporter": "python",
   "pygments_lexer": "ipython3",
   "version": "3.6.5"
  }
 },
 "nbformat": 4,
 "nbformat_minor": 2
}
