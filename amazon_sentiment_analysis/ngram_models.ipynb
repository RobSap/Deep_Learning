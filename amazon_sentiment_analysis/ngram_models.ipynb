{
 "cells": [
  {
   "cell_type": "code",
   "execution_count": 25,
   "metadata": {},
   "outputs": [],
   "source": [
    "#Import\n",
    "import sys\n",
    "\n",
    "from random import shuffle\n",
    "import numpy as np\n",
    "import matplotlib.pyplot as plt\n",
    "import json\n",
    "import pandas as pd\n",
    "from pandas.io.json import json_normalize\n",
    "\n",
    "from sklearn.feature_extraction import text \n",
    "from sklearn.feature_extraction.text import CountVectorizer\n",
    "from sklearn.linear_model import LogisticRegression\n",
    "from sklearn.model_selection import train_test_split\n",
    "from sklearn.metrics import accuracy_score\n",
    "from sklearn.ensemble import GradientBoostingClassifier\n",
    "from sklearn.naive_bayes import MultinomialNB\n",
    "\n",
    "from keras import regularizers\n",
    "from keras.layers import Dense\n",
    "from keras.layers import Dropout\n",
    "from keras import models\n",
    "from keras import layers\n",
    "from keras.utils import to_categorical\n",
    "from keras import optimizers\n",
    "from keras import losses\n",
    "from keras import metrics\n",
    "\n",
    "import nltk\n",
    "from nltk.corpus import stopwords\n",
    "\n"
   ]
  },
  {
   "cell_type": "code",
   "execution_count": 26,
   "metadata": {},
   "outputs": [
    {
     "name": "stdout",
     "output_type": "stream",
     "text": [
      "Reading in file\n",
      "On file 1 out of 1\n",
      "Shuffle the order, limiting entries to 500000\n",
      "Making df\n",
      "Binning y\n",
      "Percent positive reviews: 0.7901740020470829\n",
      "Percent Negative reviews: 0.20982599795291712\n",
      "Finished with data\n"
     ]
    }
   ],
   "source": [
    "data = []\n",
    "print(\"Reading in file\")\n",
    "\n",
    "#json_list = ['reviews_Movies_and_TV_5.json','reviews_Amazon_Instant_Video_5.json']\n",
    "#json_list = ['reviews_Movies_and_TV_5.json'] #Used for big data\n",
    "json_list = ['reviews_Amazon_Instant_Video_5.json'] # USed for fast testing\n",
    "counter = 0\n",
    "for file in json_list:\n",
    "    counter +=1\n",
    "    print(\"On file \" + str(counter) + \" out of \" + str(len(json_list)))\n",
    "    with open('/Volumes/TOSHIBA/desktop/data_sets/'+ file) as f:\n",
    "        for line in f:\n",
    "            data.append(json.loads(line))\n",
    "\n",
    "            \n",
    "limit = 500000\n",
    "print(\"Shuffle the order, limiting entries to \" + str(limit))\n",
    "shuffle(data)\n",
    "\n",
    "\n",
    "print(\"Making df\")\n",
    "df = pd.DataFrame.from_dict(json_normalize(data[:limit]), orient='columns')\n",
    "    #print(df)\n",
    "    #df = df.values.tolist()\n",
    "     \n",
    "header = df.columns.tolist()\n",
    "    \n",
    "        \n",
    "    # Remove unneeded special characters by encoding to ascii and then recoding to utf-8\n",
    "df.reviewText = df.reviewText.str.encode('ascii', 'ignore')\n",
    "df.reviewText = df.reviewText.str.decode('utf-8')\n",
    "stop_words = set(stopwords.words('english'))\n",
    "# Removing stopwords - you need a list called stopwords defining your stopwords\n",
    "df.reviewText = df.reviewText.apply(lambda x: ' '.join([word for word in x.split() if word not in (stop_words)]))\n",
    "    \n",
    "    \n",
    "df=df.values\n",
    "data = list(df)\n",
    "x_train = []\n",
    "y_train = []\n",
    "print(\"Binning y\")\n",
    "#print(header)\n",
    "help_count = 0\n",
    "\n",
    "for i in range(0,(len(data))):\n",
    "    #print(data[i])\n",
    "    #input(\"Press enter to continue\")  \n",
    "\n",
    "    x_train.append(data[i][3])\n",
    "    if data[i][2] <=3:\n",
    "        y_train.append(0)\n",
    "    else:\n",
    "        y_train.append(1)\n",
    "value = sum(y_train)\n",
    "positive = value/len(y_train)\n",
    "negative = 1 - positive\n",
    "print(\"Percent positive reviews: \" + str(positive))\n",
    "print(\"Percent Negative reviews: \" + str(negative))\n",
    "print(\"Finished with data\")"
   ]
  },
  {
   "cell_type": "code",
   "execution_count": 27,
   "metadata": {},
   "outputs": [
    {
     "name": "stdout",
     "output_type": "stream",
     "text": [
      "Vectorizing data, this may take a while depening on the n-gram model and the size of the data\n"
     ]
    }
   ],
   "source": [
    "\n",
    "print(\"Vectorizing data, this may take a while depening on the n-gram model and the size of the data\")\n",
    "\n",
    "#CountVectorizer data 0: Unigram, 1: Unigram and Bigram, 2: Bigram\n",
    "flag = 0 \n",
    "vectorizer = []\n",
    "if flag ==0:\n",
    "#Unigram\n",
    "    temp = CountVectorizer(min_df=5,analyzer = 'word',stop_words=stop_words,ngram_range=(1,1))\n",
    "    vectorizer = temp.fit(x_train)\n",
    "elif flag ==1:\n",
    "    #Unigram and Bigram\n",
    "    vectorizer = CountVectorizer(min_df=3,analyzer= 'word',stop_words=stop_words,ngram_range=(1, 2)).fit(x_train)\n",
    "elif flag ==2:\n",
    "        #Bigram\n",
    "    vectorizer = CountVectorizer(min_df=2,analyzer = 'word',stop_words=stop_words,ngram_range=(2, 2)).fit(x_train)\n",
    "\n",
    "x_train = vectorizer.transform(x_train)\n"
   ]
  },
  {
   "cell_type": "code",
   "execution_count": 28,
   "metadata": {},
   "outputs": [],
   "source": [
    "from sklearn.feature_extraction.text import TfidfTransformer\n",
    "x_train = TfidfTransformer().fit_transform(x_train)\n"
   ]
  },
  {
   "cell_type": "code",
   "execution_count": 29,
   "metadata": {},
   "outputs": [
    {
     "name": "stdout",
     "output_type": "stream",
     "text": [
      "Splitting data\n",
      "Done splitting data\n"
     ]
    }
   ],
   "source": [
    "    print(\"Splitting data\")\n",
    "    x_train, x_test, y_train, y_test = train_test_split(x_train, y_train, random_state=69, shuffle=True, test_size=0.20)\n",
    "    y_train = np.asarray(y_train).astype('float32')\n",
    "    y_test = np.asarray(y_test).astype('float32')\n",
    "    print(\"Done splitting data\")"
   ]
  },
  {
   "cell_type": "code",
   "execution_count": 46,
   "metadata": {},
   "outputs": [
    {
     "name": "stdout",
     "output_type": "stream",
     "text": [
      "Train on 29700 samples, validate on 7426 samples\n",
      "Epoch 1/10\n",
      "29700/29700 [==============================] - 43s 1ms/step - loss: 0.3725 - acc: 0.8377 - val_loss: 0.3415 - val_acc: 0.8484\n",
      "Epoch 2/10\n",
      "29700/29700 [==============================] - 39s 1ms/step - loss: 0.2832 - acc: 0.8828 - val_loss: 0.3472 - val_acc: 0.8468\n",
      "Epoch 3/10\n",
      "29700/29700 [==============================] - 42s 1ms/step - loss: 0.2525 - acc: 0.8978 - val_loss: 0.3574 - val_acc: 0.8511\n",
      "Epoch 4/10\n",
      "29700/29700 [==============================] - 41s 1ms/step - loss: 0.2277 - acc: 0.9094 - val_loss: 0.3686 - val_acc: 0.8472\n",
      "Epoch 5/10\n",
      "29700/29700 [==============================] - 44s 1ms/step - loss: 0.2067 - acc: 0.9197 - val_loss: 0.4320 - val_acc: 0.8573\n",
      "Epoch 6/10\n",
      "29700/29700 [==============================] - 41s 1ms/step - loss: 0.1894 - acc: 0.9279 - val_loss: 0.4015 - val_acc: 0.8490\n",
      "Epoch 7/10\n",
      "29700/29700 [==============================] - 42s 1ms/step - loss: 0.1738 - acc: 0.9351 - val_loss: 0.4361 - val_acc: 0.8477\n",
      "Epoch 8/10\n",
      "29700/29700 [==============================] - 41s 1ms/step - loss: 0.1587 - acc: 0.9425 - val_loss: 0.4720 - val_acc: 0.8505\n",
      "Epoch 9/10\n",
      "29700/29700 [==============================] - 32s 1ms/step - loss: 0.1443 - acc: 0.9484 - val_loss: 0.5279 - val_acc: 0.8525\n",
      "Epoch 10/10\n",
      "29700/29700 [==============================] - 26s 879us/step - loss: 0.1312 - acc: 0.9540 - val_loss: 0.5715 - val_acc: 0.8499\n"
     ]
    }
   ],
   "source": [
    "    epochs = 10\n",
    "    batch_size = 64\n",
    "    model = models.Sequential()\n",
    "    model.add(Dense(64, activation='relu',input_shape= (x_train.shape[1],)))\n",
    "    model.add(Dropout(.20))\n",
    "    model.add(Dense(32, activation='relu'))\n",
    "    model.add(Dropout(.20))\n",
    "    model.add(layers.Dense(1,activation='sigmoid'))\n",
    "    model.compile(optimizer='rmsprop',loss='binary_crossentropy', metrics=['acc'])\n",
    "\n",
    "    history = model.fit(x_train,y_train, epochs=epochs,validation_data=((x_test),(y_test)), batch_size=batch_size)\n"
   ]
  },
  {
   "cell_type": "code",
   "execution_count": 47,
   "metadata": {},
   "outputs": [
    {
     "data": {
      "image/png": "[encoded data removed]",
      "text/plain": [
       "<Figure size 432x288 with 1 Axes>"
      ]
     },
     "metadata": {
      "needs_background": "light"
     },
     "output_type": "display_data"
    },
    {
     "data": {
      "image/png": "[encoded data removed]",
      "text/plain": [
       "<Figure size 432x288 with 1 Axes>"
      ]
     },
     "metadata": {
      "needs_background": "light"
     },
     "output_type": "display_data"
    }
   ],
   "source": [
    "    history_dict = history.history\n",
    "    loss_values = history_dict['loss']\n",
    "    loss_values = np.array(loss_values)\n",
    "    val_loss_values = history_dict['val_loss']\n",
    "    val_loss_values = np.array(val_loss_values)\n",
    "    acc_values = history_dict['acc']\n",
    "    acc_values = np.array(acc_values)\n",
    "    val_acc_values = history_dict['val_acc']\n",
    "    val_acc_values = np.array(val_acc_values)\n",
    "\n",
    "    \n",
    "    x_labels = list(range(1, len(loss_values) + 1,1))\n",
    "\n",
    "\n",
    "    #This will show the training and validation loss per epoch\n",
    "    plt.plot(x_labels, loss_values, label='Training loss')\n",
    "    plt.plot(x_labels, val_loss_values, label='Validation loss')\n",
    "    plt.title('Training and validation loss')\n",
    "    plt.xlabel('Epochs')\n",
    "    plt.ylabel('Loss')\n",
    "    plt.xticks(x_labels)\n",
    "    plt.legend()\n",
    "    plt.show()\n",
    "\n",
    "    #This will show the training and validation accuracy per epoch\n",
    "    plt.clf()\n",
    "    plt.plot(x_labels, acc_values, label='Training acc')\n",
    "    plt.plot(x_labels, val_acc_values, label='Validation acc')\n",
    "    plt.title('Training and validation accuracy')\n",
    "    plt.xlabel('Epochs')\n",
    "    plt.ylabel('Accuracy')\n",
    "    plt.xticks(x_labels)\n",
    "    plt.legend()\n",
    "    plt.show()"
   ]
  },
  {
   "cell_type": "code",
   "execution_count": 49,
   "metadata": {},
   "outputs": [
    {
     "name": "stdout",
     "output_type": "stream",
     "text": [
      "Epoch 1/3\n",
      "29700/29700 [==============================] - 17s 578us/step - loss: 0.3880 - acc: 0.8319\n",
      "Epoch 2/3\n",
      "29700/29700 [==============================] - 15s 509us/step - loss: 0.2930 - acc: 0.8793\n",
      "Epoch 3/3\n",
      "29700/29700 [==============================] - 15s 505us/step - loss: 0.2625 - acc: 0.8934\n",
      "7426/7426 [==============================] - 2s 264us/step\n",
      "loss: 0.35606170573903645\n",
      "accuracy: 0.8546997037436036\n"
     ]
    }
   ],
   "source": [
    "epochs = 3\n",
    "batch_size= 64\n",
    "\n",
    "model = models.Sequential()\n",
    "model.add(Dense(64, activation='relu',input_shape= (x_train.shape[1],)))\n",
    "model.add(Dropout(.20))\n",
    "model.add(Dense(32, activation='relu'))\n",
    "model.add(Dropout(.20))\n",
    "model.add(layers.Dense(1,activation='sigmoid'))\n",
    "model.compile(optimizer='rmsprop',loss='binary_crossentropy', metrics=['acc'])\n",
    "\n",
    "\n",
    "model.fit(x_train,y_train, epochs=epochs, batch_size=batch_size)\n",
    "loss,accuracy = model.evaluate((x_test),(y_test))\n",
    "print(\"loss: \"+ str(loss))\n",
    "print(\"accuracy: \"+ str(accuracy))"
   ]
  },
  {
   "cell_type": "code",
   "execution_count": 50,
   "metadata": {},
   "outputs": [
    {
     "name": "stdout",
     "output_type": "stream",
     "text": [
      "Percent positive reviews: 0.7857527605709669\n",
      "Percent Negative reviews: 0.21424723942903312\n",
      "Finished with data\n"
     ]
    }
   ],
   "source": [
    "accuracys = []\n",
    "accuracys.append(accuracy)\n",
    "\n",
    "value = sum(y_test)\n",
    "positive = value/len(y_test)\n",
    "negative = 1 - positive\n",
    "print(\"Percent positive reviews: \" + str(positive))\n",
    "print(\"Percent Negative reviews: \" + str(negative))\n",
    "print(\"Finished with data\")\n",
    "\n",
    "size = len(y_test)\n",
    "\n",
    "listofzeros = [0] * size\n",
    "accuracy = accuracy_score(y_test, listofzeros)\n",
    "accuracys.append(accuracy)\n",
    "del listofzeros\n",
    "\n",
    "\n",
    "listofones = [1] * size\n",
    "accuracy = accuracy_score(y_test, listofones)\n",
    "accuracys.append(accuracy)\n",
    "del listofones\n",
    "\n"
   ]
  },
  {
   "cell_type": "code",
   "execution_count": 51,
   "metadata": {},
   "outputs": [
    {
     "name": "stdout",
     "output_type": "stream",
     "text": [
      "Running XGBoost\n",
      "GBC\n",
      "accuracy 0.8179369781847563\n"
     ]
    }
   ],
   "source": [
    "    print(\"Running XGBoost\")\n",
    "    model = GradientBoostingClassifier(n_estimators=100)\n",
    "    model.fit(x_train, y_train)\n",
    "    results2 = model.predict(x_test)\n",
    "    accuracy = accuracy_score(y_test, results2)\n",
    "    accuracys.append(accuracy)\n",
    "\n",
    "    print(\"GBC\")\n",
    "    print(\"accuracy \" + str(accuracy))\n",
    "\n"
   ]
  },
  {
   "cell_type": "code",
   "execution_count": 52,
   "metadata": {},
   "outputs": [
    {
     "name": "stdout",
     "output_type": "stream",
     "text": [
      "Running LR\n",
      "LR\n",
      "accuracy 0.8565849717209804\n"
     ]
    }
   ],
   "source": [
    "    print(\"Running LR\")\n",
    "    lrmodel =LogisticRegression(penalty='l2', solver='newton-cg')\n",
    "    fitmodel =lrmodel.fit(x_train, y_train)\n",
    "    results = fitmodel.predict(x_test)\n",
    "\n",
    "    #print(y_test) \n",
    "    accuracy = accuracy_score(y_test, results)\n",
    "    accuracys.append(accuracy)\n",
    "    print(\"LR\")\n",
    "    print(\"accuracy \" + str(accuracy))"
   ]
  },
  {
   "cell_type": "code",
   "execution_count": 53,
   "metadata": {},
   "outputs": [
    {
     "name": "stdout",
     "output_type": "stream",
     "text": [
      "Multinomial BB\n",
      "Accuracy 0.8179369781847563\n"
     ]
    }
   ],
   "source": [
    "    clf = MultinomialNB()\n",
    "    clf = clf.fit(x_train, y_train)\n",
    "    scores= (clf.predict(x_test))\n",
    "    accuracy = accuracy_score(y_test, results2)\n",
    "    accuracys.append(accuracy)\n",
    "    print(\"Multinomial BB\")\n",
    "    print( \"Accuracy \" + str(accuracy ))\n",
    "    "
   ]
  },
  {
   "cell_type": "code",
   "execution_count": 54,
   "metadata": {},
   "outputs": [
    {
     "data": {
      "image/png": "[encoded data removed]",
      "text/plain": [
       "<Figure size 432x288 with 1 Axes>"
      ]
     },
     "metadata": {
      "needs_background": "light"
     },
     "output_type": "display_data"
    }
   ],
   "source": [
    "    names = [\"Keras\",\"all neg\", \"all pos\",\"XGBoost\",\"LR\", \"NB\"]\n",
    "   \n",
    "   \n",
    "    \n",
    "    y_len = np.arange(len(accuracys))\n",
    "    fig, ax = plt.subplots()\n",
    "\n",
    "    chart= plt.bar(y_len, accuracys, align='center')#, alpha=0.5)\n",
    "    plt.xticks(y_len, names)\n",
    "    plt.ylim(0.0, 1.0)\n",
    "    plt.ylabel('Accuracy')\n",
    "    plt.title('Difference in Accuracy')\n",
    "    plt.legend(names)\n",
    "\n",
    "    i=0\n",
    "    for bar in chart:\n",
    "        height = bar.get_height()\n",
    "        #print(height)\n",
    "        ax.text(bar.get_x() + bar.get_width()/2., height,'%d' % int(height*100) + \"%\", ha='center', va='bottom')\n",
    "\n",
    "        i+=1\n",
    "    plt.tight_layout()\n",
    "    plt.show()"
   ]
  },
  {
   "cell_type": "code",
   "execution_count": null,
   "metadata": {},
   "outputs": [],
   "source": [
    "#Summary of results\n",
    "'''\n",
    "From what we can see abouve, using an Unigram, or in this case a bag of words model, \n",
    "we get about 85-86% accuracy. A tuned Keras model performs about as well as a untuned LR model. \n",
    "Using a Bigram we see slightly better accuracy than Unigram, but again the Keras model \n",
    "performs about the same as the LR model. The next step is to take advantage of Keras \n",
    "Tokenizer and embedding. Maybe this will let us score better ?\n",
    "\n",
    "'''"
   ]
  }
 ],
 "metadata": {
  "kernelspec": {
   "display_name": "Python 3",
   "language": "python",
   "name": "python3"
  },
  "language_info": {
   "codemirror_mode": {
    "name": "ipython",
    "version": 3
   },
   "file_extension": ".py",
   "mimetype": "text/x-python",
   "name": "python",
   "nbconvert_exporter": "python",
   "pygments_lexer": "ipython3",
   "version": "3.6.5"
  }
 },
 "nbformat": 4,
 "nbformat_minor": 2
}
